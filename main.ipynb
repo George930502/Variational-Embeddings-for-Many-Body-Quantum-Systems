{
 "cells": [
  {
   "cell_type": "markdown",
   "id": "b4c308b8",
   "metadata": {},
   "source": [
    "## Import Libraries"
   ]
  },
  {
   "cell_type": "code",
   "execution_count": 1,
   "id": "f46ea608",
   "metadata": {},
   "outputs": [],
   "source": [
    "import os\n",
    "import numpy as np\n",
    "from collections import Counter\n",
    "from itertools import product\n",
    "import random\n",
    "\n",
    "from pyscf import gto, scf, lo\n",
    "\n",
    "import netket as nk\n",
    "import netket.experimental as nkx\n",
    "\n",
    "import flax.linen as nn\n",
    "import jax.numpy as jnp\n",
    "import jax"
   ]
  },
  {
   "cell_type": "markdown",
   "id": "7e920fdc",
   "metadata": {},
   "source": [
    "## Define Molecular"
   ]
  },
  {
   "cell_type": "code",
   "execution_count": 2,
   "id": "356306df",
   "metadata": {},
   "outputs": [
    {
     "name": "stdout",
     "output_type": "stream",
     "text": [
      "converged SCF energy = -2.10329082299987\n",
      "[[ 0.23646159  0.54410393  0.90037498 -0.87827586]\n",
      " [ 0.40172325  0.39852889 -0.63532245  1.63712543]\n",
      " [ 0.40172325 -0.39852889 -0.63532245 -1.63712543]\n",
      " [ 0.23646159 -0.54410393  0.90037498  0.87827586]]\n",
      "number of orbitals: 4\n"
     ]
    }
   ],
   "source": [
    "mol = gto.M(atom='H 0 0 0; H 0 0 0.75; H 0 0 1.5; H 0 0 2.25', basis='sto-3g')   # H4 chain for example case\n",
    "mol.build()\n",
    "mf = scf.RHF(mol).run()\n",
    "n_orb = mf.mo_coeff.shape[1]\n",
    "\n",
    "print(mf.mo_coeff)   # Molecular Orbital Coefficients\n",
    "'''\n",
    "Represents the transformation matrix from atomic orbitals to molecular orbitals\n",
    "'''\n",
    "print(\"number of orbitals:\", n_orb)"
   ]
  },
  {
   "cell_type": "markdown",
   "id": "d85e9d66",
   "metadata": {},
   "source": [
    "## FCI Energy"
   ]
  },
  {
   "cell_type": "code",
   "execution_count": 3,
   "id": "5f3bcc19",
   "metadata": {},
   "outputs": [
    {
     "name": "stdout",
     "output_type": "stream",
     "text": [
      "FCI Energy: -2.14511064718622\n"
     ]
    }
   ],
   "source": [
    "from pyscf import fci\n",
    "\n",
    "cisolver = fci.FCI(mol, mf.mo_coeff)\n",
    "fci_energy = cisolver.kernel()[0]\n",
    "\n",
    "print(\"FCI Energy:\", fci_energy)"
   ]
  },
  {
   "cell_type": "markdown",
   "id": "1542b013",
   "metadata": {},
   "source": [
    "## Partition Molecular"
   ]
  },
  {
   "cell_type": "code",
   "execution_count": 4,
   "id": "0b3c6f07",
   "metadata": {},
   "outputs": [
    {
     "name": "stdout",
     "output_type": "stream",
     "text": [
      "active space: [[ 0.17290591  0.46998491]\n",
      " [ 0.44341077  0.53187291]\n",
      " [ 0.44877447 -0.53147553]\n",
      " [ 0.17013577 -0.4702411 ]]\n",
      "bath space: [[ 0.91489617 -0.91988559]\n",
      " [-0.60462494  1.59967119]\n",
      " [-0.60536158 -1.59802807]\n",
      " [ 0.91504347  0.92012463]]\n"
     ]
    }
   ],
   "source": [
    "n_active = 2\n",
    "n_bath = n_orb - n_active\n",
    "mo_coeff = lo.Boys(mol).kernel(mf.mo_coeff)   # Localized molecular orbitals\n",
    "mo_active = mo_coeff[:, :n_active]    # How molecular orbitals are linearly combined from atomic orbitals\n",
    "mo_bath = mo_coeff[:, n_active:]\n",
    "\n",
    "print(\"active space:\", mo_active)\n",
    "print(\"bath space:\", mo_bath)"
   ]
  },
  {
   "cell_type": "code",
   "execution_count": 5,
   "id": "e5439773",
   "metadata": {},
   "outputs": [],
   "source": [
    "# Hamiltonian in atomic orbital space\n",
    "h_ao = mf.get_hcore()\n",
    "# Project to active MO space → get active space Hamiltonian\n",
    "h_active = mo_active.T @ h_ao @ mo_active"
   ]
  },
  {
   "cell_type": "markdown",
   "id": "f9f4a20b",
   "metadata": {},
   "source": [
    "## Define the second-quantized Hamiltonian acting on the active space"
   ]
  },
  {
   "cell_type": "code",
   "execution_count": 6,
   "id": "855091a6",
   "metadata": {},
   "outputs": [
    {
     "name": "stdout",
     "output_type": "stream",
     "text": [
      "FermionOperator2nd(hilbert=SpinOrbitalFermions(n_orbitals=2, s=1/2, n_fermions=4, n_fermions_per_spin=(2, 2)), n_operators=27, dtype=float64)\n"
     ]
    }
   ],
   "source": [
    "H = nkx.operator.from_pyscf_molecule(mol, mo_coeff=mo_active)  # The second-quantized Hamiltonian acting on the active space\n",
    "print(H)"
   ]
  },
  {
   "cell_type": "markdown",
   "id": "107eb703",
   "metadata": {},
   "source": [
    "## Define Hilbert Space"
   ]
  },
  {
   "cell_type": "code",
   "execution_count": 7,
   "id": "c5b88997",
   "metadata": {},
   "outputs": [],
   "source": [
    "hi_active = H.hilbert"
   ]
  },
  {
   "cell_type": "markdown",
   "id": "a181cf8c",
   "metadata": {},
   "source": [
    "## Conditional Variational Wave Function Model $\\alpha(\\sigma \\mid \\eta)$"
   ]
  },
  {
   "cell_type": "code",
   "execution_count": 8,
   "id": "78b00930",
   "metadata": {},
   "outputs": [],
   "source": [
    "# class ConditionalMLP(nn.Module):\n",
    "#     '''\n",
    "#     Return: log psi(sigma | eta)\n",
    "#     '''\n",
    "#     n_active: int\n",
    "#     n_bath: int\n",
    "\n",
    "#     @nn.compact\n",
    "#     def __call__(self, sigma_eta):\n",
    "#         x = sigma_eta\n",
    "#         x = nn.Dense(64)(x)\n",
    "#         x = nn.tanh(x)\n",
    "#         x = nn.Dense(64)(x)\n",
    "#         x = nn.tanh(x)\n",
    "#         x = nn.Dense(1)(x)\n",
    "#         return jnp.squeeze(x, axis=-1)   # output: log amplitude"
   ]
  },
  {
   "cell_type": "code",
   "execution_count": 9,
   "id": "7fab9df2",
   "metadata": {},
   "outputs": [],
   "source": [
    "class ConditionalMLP(nn.Module):\n",
    "    '''\n",
    "    Return: log ψ(σ | η)\n",
    "    '''\n",
    "    n_active: int\n",
    "    n_bath: int\n",
    "    hidden_dim: int = 64  # tunable\n",
    "\n",
    "    @nn.compact\n",
    "    def __call__(self, sigma_eta):\n",
    "        x = sigma_eta.astype(jnp.float32)  \n",
    "        x = nn.Dense(self.hidden_dim)(x)\n",
    "        x = nn.relu(x)                     \n",
    "        x = nn.Dense(self.hidden_dim)(x)\n",
    "        x = nn.relu(x)\n",
    "        x = nn.Dense(1)(x)\n",
    "\n",
    "        # log-amplitude\n",
    "        return jnp.squeeze(x, axis=-1)"
   ]
  },
  {
   "cell_type": "markdown",
   "id": "d795335a",
   "metadata": {},
   "source": [
    "## Bath Configuration $\\beta(\\eta)$"
   ]
  },
  {
   "cell_type": "code",
   "execution_count": 10,
   "id": "2492e9ff",
   "metadata": {},
   "outputs": [],
   "source": [
    "def sample_bath_distribution(n_bath, n_samples):\n",
    "    configs = list(product([0, 1], repeat=n_bath))\n",
    "    sampled = random.choices(configs, k=n_samples)\n",
    "    counter = Counter(sampled)\n",
    "    result = [(np.array(eta), count / n_samples) for eta, count in counter.items()]  # (eta, p_eta)\n",
    "    return result\n",
    "\n",
    "eta_distribution = sample_bath_distribution(n_bath, 500)"
   ]
  },
  {
   "cell_type": "markdown",
   "id": "aff7b6e1",
   "metadata": {},
   "source": [
    "## Use Variatioanl Monte Carlo (VMC) to approximate ground state energy"
   ]
  },
  {
   "cell_type": "code",
   "execution_count": 11,
   "id": "1abf3943",
   "metadata": {},
   "outputs": [],
   "source": [
    "# class ConditionedState(nk.vqs.MCState):\n",
    "#     def __init__(self, sampler, model, eta, n_samples=1024, debug=False):\n",
    "#         self.eta = eta\n",
    "#         self.debug = debug\n",
    "#         super().__init__(sampler, model, n_samples=n_samples)   # sigma.shape = (1024, n_active)\n",
    "\n",
    "#     def log_prob(self, sigma):\n",
    "#         '''\n",
    "#         Sigma shape: (n_chains, samples_per_chain, n_active)\n",
    "#         '''\n",
    "#         # sigma_eta = jnp.concatenate([sigma, jnp.tile(self.eta, (sigma.shape[0], 1))], axis=1)\n",
    "\n",
    "#         eta_broadcasted = jnp.broadcast_to(self.eta, sigma.shape[:-1] + self.eta.shape)\n",
    "#         sigma_eta = jnp.concatenate([sigma, eta_broadcasted], axis=-1)\n",
    "\n",
    "#         # Debug: 印出 sigma 和 sigma_eta\n",
    "#         if self.debug:\n",
    "#             print(\"\\nSampled sigma (first 1):\")\n",
    "#             print(sigma[:1])\n",
    "#             print(\"Corresponding sigma_eta (first 1):\")\n",
    "#             print(sigma_eta[:1])\n",
    "\n",
    "#         # return self.model(sigma_eta)\n",
    "#         return self.model.apply(self.params, sigma_eta)"
   ]
  },
  {
   "cell_type": "code",
   "execution_count": 12,
   "id": "557f46f6",
   "metadata": {},
   "outputs": [],
   "source": [
    "class ConditionedState(nk.vqs.MCState):\n",
    "    def __init__(self, sampler, model, params, eta_array, n_samples=1024, debug=False):\n",
    "        self.debug = debug\n",
    "\n",
    "        def apply_fun(params, sigma, **kwargs):\n",
    "            eta_broadcasted = jnp.broadcast_to(eta_array, sigma.shape[:-1] + eta_array.shape)\n",
    "            sigma_eta = jnp.concatenate([sigma, eta_broadcasted], axis=-1)\n",
    "\n",
    "            if debug:\n",
    "                print(\"sigma shape:\", sigma.shape)\n",
    "                print(\"sigma_eta shape:\", sigma_eta.shape)\n",
    "\n",
    "            return model.apply(params, sigma_eta, **kwargs)\n",
    "\n",
    "\n",
    "        super().__init__(\n",
    "            sampler=sampler,\n",
    "            apply_fun=apply_fun,\n",
    "            variables=params,\n",
    "            n_samples=n_samples,\n",
    "        )"
   ]
  },
  {
   "cell_type": "code",
   "execution_count": 13,
   "id": "fa7fd69a",
   "metadata": {},
   "outputs": [
    {
     "name": "stdout",
     "output_type": "stream",
     "text": [
      "E_eta: -2.060501, p_eta: 0.2320, weighted: -0.478036\n",
      "E_eta: -2.062798, p_eta: 0.2260, weighted: -0.466192\n",
      "E_eta: -2.063180, p_eta: 0.2940, weighted: -0.606575\n",
      "E_eta: -2.063231, p_eta: 0.2480, weighted: -0.511681\n"
     ]
    }
   ],
   "source": [
    "E_total = 0.0\n",
    "E_eta_list = [] # record each eta expectation\n",
    "\n",
    "for eta_array, p_eta in eta_distribution:\n",
    "    sampler = nk.sampler.MetropolisLocal(hi_active)\n",
    "\n",
    "    n_active = hi_active.size  \n",
    "    n_bath = eta_array.shape[0]\n",
    "\n",
    "    # print(n_active, n_bath)\n",
    "    \n",
    "    flax_model = ConditionalMLP(n_active=n_active, n_bath=n_bath)\n",
    "\n",
    "    # Mpdel Initialization\n",
    "    dummy_sigma = jnp.zeros((1, n_active))\n",
    "    dummy_eta = jnp.reshape(eta_array, (1, n_bath)) \n",
    "    dummy_input = jnp.concatenate([dummy_sigma, dummy_eta], axis=-1)\n",
    "    params = flax_model.init(jax.random.PRNGKey(0), dummy_input)\n",
    "\n",
    "    vstate = ConditionedState(sampler, flax_model, params, eta_array)\n",
    "\n",
    "    # VMC optimization\n",
    "    opt = nk.optimizer.Sgd(learning_rate=0.01)\n",
    "    sr = nk.optimizer.SR(diag_shift=0.1)\n",
    "    driver = nk.driver.VMC(H, optimizer=opt, variational_state=vstate, preconditioner=sr)\n",
    "    driver.run(n_iter=500, show_progress=False)  \n",
    "\n",
    "    # Estimate E_η\n",
    "    energy_stats = vstate.expect(H)\n",
    "    E_eta = energy_stats.mean.item()  \n",
    "    weighted_energy = p_eta * E_eta\n",
    "\n",
    "    print(f\"E_eta: {E_eta:.6f}, p_eta: {p_eta:.4f}, weighted: {weighted_energy:.6f}\")\n",
    "    E_eta_list.append((eta_array, p_eta, E_eta))\n",
    "\n",
    "    E_total += weighted_energy"
   ]
  },
  {
   "cell_type": "code",
   "execution_count": 14,
   "id": "b73e59a5",
   "metadata": {},
   "outputs": [
    {
     "name": "stdout",
     "output_type": "stream",
     "text": [
      "[(array([1, 1]), 0.232, -2.0605005766899587), (array([0, 0]), 0.226, -2.0627977021436754), (array([0, 1]), 0.294, -2.0631804075442433), (array([1, 0]), 0.248, -2.063231399685427)]\n",
      "-2.0624848414165347\n"
     ]
    }
   ],
   "source": [
    "print(E_eta_list)\n",
    "print(E_total)"
   ]
  },
  {
   "cell_type": "code",
   "execution_count": null,
   "id": "21e5f899",
   "metadata": {},
   "outputs": [],
   "source": []
  },
  {
   "cell_type": "code",
   "execution_count": null,
   "id": "cb6db2d5",
   "metadata": {},
   "outputs": [],
   "source": []
  },
  {
   "cell_type": "code",
   "execution_count": null,
   "id": "da2a9126",
   "metadata": {},
   "outputs": [],
   "source": []
  }
 ],
 "metadata": {
  "kernelspec": {
   "display_name": "nqsenv",
   "language": "python",
   "name": "python3"
  },
  "language_info": {
   "codemirror_mode": {
    "name": "ipython",
    "version": 3
   },
   "file_extension": ".py",
   "mimetype": "text/x-python",
   "name": "python",
   "nbconvert_exporter": "python",
   "pygments_lexer": "ipython3",
   "version": "3.12.7"
  }
 },
 "nbformat": 4,
 "nbformat_minor": 5
}
